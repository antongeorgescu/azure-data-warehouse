{
  "cells": [
    {
      "cell_type": "code",
      "source": [
        "%%pyspark\r\n",
        "df = spark.read.load('abfss://loanstarfilesys@loanstarlake.dfs.core.windows.net/*Courses.parquet', format='parquet')\r\n",
        "display(df.limit(10))"
      ],
      "outputs": [
        {
          "output_type": "display_data",
          "data": {
            "application/vnd.livy.statement-meta+json": {
              "spark_pool": "Spark1",
              "session_id": 10,
              "statement_id": 2,
              "state": "finished",
              "livy_statement_state": "available",
              "queued_time": "2021-05-07T01:32:41.0002029Z",
              "execution_start_time": "2021-05-07T01:32:41.132049Z",
              "execution_finish_time": "2021-05-07T01:32:45.2628786Z"
            },
            "text/plain": "StatementMeta(Spark1, 10, 2, Finished, Available)"
          },
          "metadata": {}
        },
        {
          "output_type": "display_data",
          "data": {
            "application/vnd.synapse.widget-view+json": {
              "widget_id": "8d428167-db9e-4396-a77c-70ba81a9945f",
              "widget_type": "Synapse.DataFrame"
            },
            "text/plain": "SynapseWidget(Synapse.DataFrame, 8d428167-db9e-4396-a77c-70ba81a9945f)"
          },
          "metadata": {}
        },
        {
          "output_type": "execute_result",
          "execution_count": 2,
          "data": {},
          "metadata": {}
        }
      ],
      "execution_count": 2,
      "metadata": {
        "microsoft": {
          "language": "python"
        },
        "collapsed": false,
        "jupyter": {
          "outputs_hidden": true
        }
      }
    },
    {
      "cell_type": "code",
      "source": [
        "%%pyspark\r\n",
        "df.printSchema()"
      ],
      "outputs": [
        {
          "output_type": "display_data",
          "data": {
            "application/vnd.livy.statement-meta+json": {
              "spark_pool": "Spark1",
              "session_id": 10,
              "statement_id": 3,
              "state": "finished",
              "livy_statement_state": "available",
              "queued_time": "2021-05-07T01:35:29.0191275Z",
              "execution_start_time": "2021-05-07T01:35:29.1886137Z",
              "execution_finish_time": "2021-05-07T01:35:31.2498569Z"
            },
            "text/plain": "StatementMeta(Spark1, 10, 3, Finished, Available)"
          },
          "metadata": {}
        },
        {
          "output_type": "stream",
          "name": "stdout",
          "text": [
            "root\n",
            " |-- PersonID: long (nullable = true)\n",
            " |-- LastName: string (nullable = true)\n",
            " |-- FirstName: string (nullable = true)\n",
            " |-- HireDate: timestamp (nullable = true)\n",
            " |-- Discriminator: string (nullable = true)\n",
            " |-- CourseID: long (nullable = true)\n",
            " |-- Title: string (nullable = true)\n",
            " |-- Credits: long (nullable = true)\n",
            " |-- Name: string (nullable = true)\n",
            " |-- Budget: double (nullable = true)\n",
            " |-- StartDate: timestamp (nullable = true)\n",
            " |-- Location: string (nullable = true)\n",
            " |-- Days: string (nullable = true)\n",
            " |-- URL: string (nullable = true)"
          ]
        }
      ],
      "execution_count": 3,
      "metadata": {
        "collapsed": true,
        "jupyter": {
          "source_hidden": false,
          "outputs_hidden": true
        },
        "nteract": {
          "transient": {
            "deleting": false
          }
        },
        "microsoft": {
          "language": "python"
        }
      }
    },
    {
      "cell_type": "code",
      "source": [
        "%%pyspark\r\n",
        "spark.sql(\"CREATE DATABASE IF NOT EXISTS student\")\r\n",
        "df.write.mode(\"overwrite\").saveAsTable(\"student.curriculum\")"
      ],
      "outputs": [
        {
          "output_type": "display_data",
          "data": {
            "application/vnd.livy.statement-meta+json": {
              "spark_pool": "Spark1",
              "session_id": 10,
              "statement_id": 4,
              "state": "finished",
              "livy_statement_state": "available",
              "queued_time": "2021-05-07T01:36:48.2947302Z",
              "execution_start_time": "2021-05-07T01:36:48.4311357Z",
              "execution_finish_time": "2021-05-07T01:36:56.6992065Z"
            },
            "text/plain": "StatementMeta(Spark1, 10, 4, Finished, Available)"
          },
          "metadata": {}
        },
        {
          "output_type": "stream",
          "name": "stdout",
          "text": []
        }
      ],
      "execution_count": 4,
      "metadata": {
        "collapsed": true,
        "jupyter": {
          "source_hidden": false,
          "outputs_hidden": true
        },
        "nteract": {
          "transient": {
            "deleting": false
          }
        },
        "microsoft": {
          "language": "python"
        }
      }
    },
    {
      "cell_type": "code",
      "source": [
        "%%pyspark\r\n",
        "df = spark.sql(\"SELECT * FROM student.curriculum\") \r\n",
        "display(df)"
      ],
      "outputs": [
        {
          "output_type": "display_data",
          "data": {
            "application/vnd.livy.statement-meta+json": {
              "spark_pool": "Spark1",
              "session_id": 10,
              "statement_id": 5,
              "state": "finished",
              "livy_statement_state": "available",
              "queued_time": "2021-05-07T01:38:49.5323911Z",
              "execution_start_time": "2021-05-07T01:38:49.6761314Z",
              "execution_finish_time": "2021-05-07T01:38:51.7514559Z"
            },
            "text/plain": "StatementMeta(Spark1, 10, 5, Finished, Available)"
          },
          "metadata": {}
        },
        {
          "output_type": "display_data",
          "data": {
            "application/vnd.synapse.widget-view+json": {
              "widget_id": "fea086d1-3dc8-401d-94bc-676d67f946de",
              "widget_type": "Synapse.DataFrame"
            },
            "text/plain": "SynapseWidget(Synapse.DataFrame, fea086d1-3dc8-401d-94bc-676d67f946de)"
          },
          "metadata": {}
        },
        {
          "output_type": "execute_result",
          "execution_count": 5,
          "data": {},
          "metadata": {}
        }
      ],
      "execution_count": 5,
      "metadata": {
        "collapsed": false,
        "jupyter": {
          "source_hidden": false,
          "outputs_hidden": true
        },
        "nteract": {
          "transient": {
            "deleting": false
          }
        },
        "microsoft": {
          "language": "python"
        }
      }
    },
    {
      "cell_type": "code",
      "source": [
        "%%pyspark\r\n",
        "df = spark.sql(\"\"\"\r\n",
        "  SELECT CourseID,\r\n",
        "\tCOUNT(PersonID) AS StudentCount,\r\n",
        "    AVG(Credits) AS AverageCredits\r\n",
        "  FROM student.curriculum\r\n",
        "  GROUP BY CourseID\r\n",
        "  ORDER BY COUNT(PersonID) DESC\r\n",
        "\"\"\") \r\n",
        "display(df)\r\n",
        "df.write.saveAsTable(\"student.popularcourses\")"
      ],
      "outputs": [
        {
          "output_type": "display_data",
          "data": {
            "application/vnd.livy.statement-meta+json": {
              "spark_pool": "Spark1",
              "session_id": 12,
              "statement_id": 1,
              "state": "finished",
              "livy_statement_state": "available",
              "queued_time": "2021-05-07T01:56:48.4789727Z",
              "execution_start_time": "2021-05-07T01:57:42.2136948Z",
              "execution_finish_time": "2021-05-07T01:58:13.3118974Z"
            },
            "text/plain": "StatementMeta(Spark1, 12, 1, Finished, Available)"
          },
          "metadata": {}
        },
        {
          "output_type": "display_data",
          "data": {
            "application/vnd.synapse.widget-view+json": {
              "widget_id": "a0ec488d-e098-4b45-b2dc-990a9ca5524b",
              "widget_type": "Synapse.DataFrame"
            },
            "text/plain": "SynapseWidget(Synapse.DataFrame, a0ec488d-e098-4b45-b2dc-990a9ca5524b)"
          },
          "metadata": {}
        },
        {
          "output_type": "execute_result",
          "execution_count": 10,
          "data": {},
          "metadata": {}
        }
      ],
      "execution_count": 10,
      "metadata": {
        "collapsed": false,
        "jupyter": {
          "source_hidden": false,
          "outputs_hidden": false
        },
        "nteract": {
          "transient": {
            "deleting": false
          }
        },
        "microsoft": {
          "language": "python"
        }
      }
    }
  ],
  "metadata": {
    "language_info": {
      "name": "python"
    },
    "kernelspec": {
      "name": "synapse_pyspark",
      "language": "Python",
      "display_name": "Synapse PySpark"
    },
    "kernel_info": {
      "name": "synapse_pyspark"
    },
    "save_output": true,
    "synapse_widget": {
      "version": "0.1",
      "state": {
        "8d428167-db9e-4396-a77c-70ba81a9945f": {
          "type": "Synapse.DataFrame",
          "sync_state": {
            "table": {
              "rows": [
                {
                  "LastName": "Abercrombie",
                  "Location": "123 Smith",
                  "PersonID": 1,
                  "HireDate": "1995-03-11T00:00:00.000Z",
                  "Name": "Engineering",
                  "Title": "Chemistry",
                  "Budget": 350000,
                  "FirstName": "Kim",
                  "Discriminator": "Instructor",
                  "CourseID": 1050,
                  "Days": "MTWH",
                  "StartDate": "2007-09-01T00:00:00.000Z",
                  "Credits": 4
                },
                {
                  "LastName": "Fakhouri",
                  "PersonID": 4,
                  "HireDate": "2002-08-06T00:00:00.000Z",
                  "Name": "English",
                  "Title": "Poetry",
                  "Budget": 120000,
                  "URL": "http://www.fineartschool.net/Poetry",
                  "FirstName": "Fadi",
                  "Discriminator": "Instructor",
                  "CourseID": 2030,
                  "StartDate": "2007-09-01T00:00:00.000Z",
                  "Credits": 2
                },
                {
                  "LastName": "Harui",
                  "Location": "121 Smith",
                  "PersonID": 5,
                  "HireDate": "1998-07-01T00:00:00.000Z",
                  "Name": "Mathematics",
                  "Title": "Calculus",
                  "Budget": 250000,
                  "FirstName": "Roger",
                  "Discriminator": "Instructor",
                  "CourseID": 1045,
                  "Days": "MWHF",
                  "StartDate": "2007-09-01T00:00:00.000Z",
                  "Credits": 4
                },
                {
                  "LastName": "Zheng",
                  "Location": "23 Williams",
                  "PersonID": 18,
                  "HireDate": "2004-02-12T00:00:00.000Z",
                  "Name": "Economics",
                  "Title": "Microeconomics",
                  "Budget": 200000,
                  "FirstName": "Roger",
                  "Discriminator": "Instructor",
                  "CourseID": 4022,
                  "Days": "MWF",
                  "StartDate": "2007-09-01T00:00:00.000Z",
                  "Credits": 3
                },
                {
                  "LastName": "Kapoor",
                  "Location": "225 Adams",
                  "PersonID": 25,
                  "HireDate": "2001-01-15T00:00:00.000Z",
                  "Name": "English",
                  "Title": "Literature",
                  "Budget": 120000,
                  "FirstName": "Candace",
                  "Discriminator": "Instructor",
                  "CourseID": 2042,
                  "Days": "MTWH",
                  "StartDate": "2007-09-01T00:00:00.000Z",
                  "Credits": 4
                },
                {
                  "LastName": "Serrano",
                  "PersonID": 27,
                  "HireDate": "1999-06-01T00:00:00.000Z",
                  "Name": "English",
                  "Title": "Composition",
                  "Budget": 120000,
                  "URL": "http://www.fineartschool.net/Composition",
                  "FirstName": "Stacy",
                  "Discriminator": "Instructor",
                  "CourseID": 2021,
                  "StartDate": "2007-09-01T00:00:00.000Z",
                  "Credits": 3
                },
                {
                  "LastName": "Stewart",
                  "Location": "234 Smith",
                  "PersonID": 31,
                  "HireDate": "1997-10-12T00:00:00.000Z",
                  "Name": "Engineering",
                  "Title": "Physics",
                  "Budget": 350000,
                  "FirstName": "Jasmine",
                  "Discriminator": "Instructor",
                  "CourseID": 1061,
                  "Days": "TWHF",
                  "StartDate": "2007-09-01T00:00:00.000Z",
                  "Credits": 4
                },
                {
                  "LastName": "Xu",
                  "PersonID": 32,
                  "HireDate": "2001-07-23T00:00:00.000Z",
                  "Name": "Economics",
                  "Title": "Macroeconomics",
                  "Budget": 200000,
                  "URL": "http://www.fineartschool.net/Macroeconomics",
                  "FirstName": "Kristen",
                  "Discriminator": "Instructor",
                  "CourseID": 4041,
                  "StartDate": "2007-09-01T00:00:00.000Z",
                  "Credits": 3
                },
                {
                  "LastName": "Van Houten",
                  "Location": "22 Williams",
                  "PersonID": 34,
                  "HireDate": "2000-12-07T00:00:00.000Z",
                  "Name": "Economics",
                  "Title": "Quantitative",
                  "Budget": 200000,
                  "FirstName": "Roger",
                  "Discriminator": "Instructor",
                  "CourseID": 4061,
                  "Days": "TH",
                  "StartDate": "2007-09-01T00:00:00.000Z",
                  "Credits": 2
                },
                {
                  "LastName": "Barzdukas",
                  "PersonID": 2,
                  "Title": "Composition",
                  "URL": "http://www.fineartschool.net/Composition",
                  "FirstName": "Gytis",
                  "Discriminator": "Student",
                  "CourseID": 2021,
                  "Credits": 3
                }
              ],
              "schema": {
                "PersonID": "bigint",
                "LastName": "string",
                "FirstName": "string",
                "HireDate": "int",
                "Discriminator": "string",
                "CourseID": "bigint",
                "Title": "string",
                "Credits": "bigint",
                "Name": "string",
                "Budget": "double",
                "StartDate": "int",
                "Location": "string",
                "Days": "string",
                "URL": "string"
              }
            },
            "isSummary": false,
            "language": "scala"
          },
          "persist_state": {
            "view": {
              "type": "details",
              "tableOptions": {},
              "chartOptions": {
                "chartType": "bar",
                "aggregationType": "sum",
                "categoryFieldKeys": [
                  "LastName"
                ],
                "seriesFieldKeys": [
                  "PersonID"
                ],
                "isStacked": false
              }
            }
          }
        },
        "fea086d1-3dc8-401d-94bc-676d67f946de": {
          "type": "Synapse.DataFrame",
          "sync_state": {
            "table": {
              "rows": [
                {
                  "LastName": "Barzdukas",
                  "PersonID": 2,
                  "Title": "Composition",
                  "URL": "http://www.fineartschool.net/Composition",
                  "FirstName": "Gytis",
                  "Discriminator": "Student",
                  "CourseID": 2021,
                  "Credits": 3
                },
                {
                  "LastName": "Barzdukas",
                  "PersonID": 2,
                  "Title": "Poetry",
                  "URL": "http://www.fineartschool.net/Poetry",
                  "FirstName": "Gytis",
                  "Discriminator": "Student",
                  "CourseID": 2030,
                  "Credits": 2
                },
                {
                  "LastName": "Justice",
                  "PersonID": 3,
                  "Title": "Composition",
                  "URL": "http://www.fineartschool.net/Composition",
                  "FirstName": "Peggy",
                  "Discriminator": "Student",
                  "CourseID": 2021,
                  "Credits": 3
                },
                {
                  "LastName": "Justice",
                  "PersonID": 3,
                  "Title": "Poetry",
                  "URL": "http://www.fineartschool.net/Poetry",
                  "FirstName": "Peggy",
                  "Discriminator": "Student",
                  "CourseID": 2030,
                  "Credits": 2
                },
                {
                  "LastName": "Li",
                  "PersonID": 6,
                  "Title": "Composition",
                  "URL": "http://www.fineartschool.net/Composition",
                  "FirstName": "Yan",
                  "Discriminator": "Student",
                  "CourseID": 2021,
                  "Credits": 3
                },
                {
                  "LastName": "Li",
                  "Location": "225 Adams",
                  "PersonID": 6,
                  "Title": "Literature",
                  "FirstName": "Yan",
                  "Discriminator": "Student",
                  "CourseID": 2042,
                  "Days": "MTWH",
                  "Credits": 4
                },
                {
                  "LastName": "Norman",
                  "PersonID": 7,
                  "Title": "Composition",
                  "URL": "http://www.fineartschool.net/Composition",
                  "FirstName": "Laura",
                  "Discriminator": "Student",
                  "CourseID": 2021,
                  "Credits": 3
                },
                {
                  "LastName": "Norman",
                  "Location": "225 Adams",
                  "PersonID": 7,
                  "Title": "Literature",
                  "FirstName": "Laura",
                  "Discriminator": "Student",
                  "CourseID": 2042,
                  "Days": "MTWH",
                  "Credits": 4
                },
                {
                  "LastName": "Olivotto",
                  "PersonID": 8,
                  "Title": "Composition",
                  "URL": "http://www.fineartschool.net/Composition",
                  "FirstName": "Nino",
                  "Discriminator": "Student",
                  "CourseID": 2021,
                  "Credits": 3
                },
                {
                  "LastName": "Olivotto",
                  "Location": "225 Adams",
                  "PersonID": 8,
                  "Title": "Literature",
                  "FirstName": "Nino",
                  "Discriminator": "Student",
                  "CourseID": 2042,
                  "Days": "MTWH",
                  "Credits": 4
                },
                {
                  "LastName": "Tang",
                  "PersonID": 9,
                  "Title": "Macroeconomics",
                  "URL": "http://www.fineartschool.net/Macroeconomics",
                  "FirstName": "Wayne",
                  "Discriminator": "Student",
                  "CourseID": 4041,
                  "Credits": 3
                },
                {
                  "LastName": "Alonso",
                  "PersonID": 10,
                  "Title": "Macroeconomics",
                  "URL": "http://www.fineartschool.net/Macroeconomics",
                  "FirstName": "Meredith",
                  "Discriminator": "Student",
                  "CourseID": 4041,
                  "Credits": 3
                },
                {
                  "LastName": "Lopez",
                  "PersonID": 11,
                  "Title": "Macroeconomics",
                  "URL": "http://www.fineartschool.net/Macroeconomics",
                  "FirstName": "Sophia",
                  "Discriminator": "Student",
                  "CourseID": 4041,
                  "Credits": 3
                },
                {
                  "LastName": "Browning",
                  "PersonID": 12,
                  "Title": "Macroeconomics",
                  "URL": "http://www.fineartschool.net/Macroeconomics",
                  "FirstName": "Meredith",
                  "Discriminator": "Student",
                  "CourseID": 4041,
                  "Credits": 3
                },
                {
                  "LastName": "Browning",
                  "Location": "22 Williams",
                  "PersonID": 12,
                  "Title": "Quantitative",
                  "FirstName": "Meredith",
                  "Discriminator": "Student",
                  "CourseID": 4061,
                  "Days": "TH",
                  "Credits": 2
                },
                {
                  "LastName": "Walker",
                  "Location": "23 Williams",
                  "PersonID": 14,
                  "Title": "Microeconomics",
                  "FirstName": "Alexandra",
                  "Discriminator": "Student",
                  "CourseID": 4022,
                  "Days": "MWF",
                  "Credits": 3
                },
                {
                  "LastName": "Anand",
                  "Location": "23 Williams",
                  "PersonID": 13,
                  "Title": "Microeconomics",
                  "FirstName": "Arturo",
                  "Discriminator": "Student",
                  "CourseID": 4022,
                  "Days": "MWF",
                  "Credits": 3
                },
                {
                  "LastName": "Anand",
                  "Location": "22 Williams",
                  "PersonID": 13,
                  "Title": "Quantitative",
                  "FirstName": "Arturo",
                  "Discriminator": "Student",
                  "CourseID": 4061,
                  "Days": "TH",
                  "Credits": 2
                },
                {
                  "LastName": "Walker",
                  "PersonID": 14,
                  "Title": "Macroeconomics",
                  "URL": "http://www.fineartschool.net/Macroeconomics",
                  "FirstName": "Alexandra",
                  "Discriminator": "Student",
                  "CourseID": 4041,
                  "Credits": 3
                },
                {
                  "LastName": "Powell",
                  "Location": "23 Williams",
                  "PersonID": 15,
                  "Title": "Microeconomics",
                  "FirstName": "Carson",
                  "Discriminator": "Student",
                  "CourseID": 4022,
                  "Days": "MWF",
                  "Credits": 3
                },
                {
                  "LastName": "Jai",
                  "Location": "23 Williams",
                  "PersonID": 16,
                  "Title": "Microeconomics",
                  "FirstName": "Damien",
                  "Discriminator": "Student",
                  "CourseID": 4022,
                  "Days": "MWF",
                  "Credits": 3
                },
                {
                  "LastName": "Carlson",
                  "Location": "23 Williams",
                  "PersonID": 17,
                  "Title": "Microeconomics",
                  "FirstName": "Robyn",
                  "Discriminator": "Student",
                  "CourseID": 4022,
                  "Days": "MWF",
                  "Credits": 3
                },
                {
                  "LastName": "Bryant",
                  "Location": "23 Williams",
                  "PersonID": 19,
                  "Title": "Microeconomics",
                  "FirstName": "Carson",
                  "Discriminator": "Student",
                  "CourseID": 4022,
                  "Days": "MWF",
                  "Credits": 3
                },
                {
                  "LastName": "Suarez",
                  "Location": "22 Williams",
                  "PersonID": 20,
                  "Title": "Quantitative",
                  "FirstName": "Robyn",
                  "Discriminator": "Student",
                  "CourseID": 4061,
                  "Days": "TH",
                  "Credits": 2
                },
                {
                  "LastName": "Holt",
                  "Location": "22 Williams",
                  "PersonID": 21,
                  "Title": "Quantitative",
                  "FirstName": "Roger",
                  "Discriminator": "Student",
                  "CourseID": 4061,
                  "Days": "TH",
                  "Credits": 2
                },
                {
                  "LastName": "Alexander",
                  "Location": "23 Williams",
                  "PersonID": 22,
                  "Title": "Microeconomics",
                  "FirstName": "Carson",
                  "Discriminator": "Student",
                  "CourseID": 4022,
                  "Days": "MWF",
                  "Credits": 3
                },
                {
                  "LastName": "Alexander",
                  "PersonID": 22,
                  "Title": "Macroeconomics",
                  "URL": "http://www.fineartschool.net/Macroeconomics",
                  "FirstName": "Carson",
                  "Discriminator": "Student",
                  "CourseID": 4041,
                  "Credits": 3
                },
                {
                  "LastName": "Alexander",
                  "Location": "22 Williams",
                  "PersonID": 22,
                  "Title": "Quantitative",
                  "FirstName": "Carson",
                  "Discriminator": "Student",
                  "CourseID": 4061,
                  "Days": "TH",
                  "Credits": 2
                },
                {
                  "LastName": "Morgan",
                  "Location": "23 Williams",
                  "PersonID": 23,
                  "Title": "Microeconomics",
                  "FirstName": "Isaiah",
                  "Discriminator": "Student",
                  "CourseID": 4022,
                  "Days": "MWF",
                  "Credits": 3
                },
                {
                  "LastName": "Morgan",
                  "Location": "121 Smith",
                  "PersonID": 23,
                  "Title": "Calculus",
                  "FirstName": "Isaiah",
                  "Discriminator": "Student",
                  "CourseID": 1045,
                  "Days": "MWHF",
                  "Credits": 4
                },
                {
                  "LastName": "Martin",
                  "Location": "234 Smith",
                  "PersonID": 24,
                  "Title": "Physics",
                  "FirstName": "Randall",
                  "Discriminator": "Student",
                  "CourseID": 1061,
                  "Days": "TWHF",
                  "Credits": 4
                },
                {
                  "LastName": "Rogers",
                  "Location": "123 Smith",
                  "PersonID": 26,
                  "Title": "Chemistry",
                  "FirstName": "Cody",
                  "Discriminator": "Student",
                  "CourseID": 1050,
                  "Days": "MTWH",
                  "Credits": 4
                },
                {
                  "LastName": "Rogers",
                  "Location": "234 Smith",
                  "PersonID": 26,
                  "Title": "Physics",
                  "FirstName": "Cody",
                  "Discriminator": "Student",
                  "CourseID": 1061,
                  "Days": "TWHF",
                  "Credits": 4
                },
                {
                  "LastName": "White",
                  "Location": "121 Smith",
                  "PersonID": 28,
                  "Title": "Calculus",
                  "FirstName": "Anthony",
                  "Discriminator": "Student",
                  "CourseID": 1045,
                  "Days": "MWHF",
                  "Credits": 4
                },
                {
                  "LastName": "White",
                  "Location": "123 Smith",
                  "PersonID": 28,
                  "Title": "Chemistry",
                  "FirstName": "Anthony",
                  "Discriminator": "Student",
                  "CourseID": 1050,
                  "Days": "MTWH",
                  "Credits": 4
                },
                {
                  "LastName": "Griffin",
                  "Location": "234 Smith",
                  "PersonID": 29,
                  "Title": "Physics",
                  "FirstName": "Rachel",
                  "Discriminator": "Student",
                  "CourseID": 1061,
                  "Days": "TWHF",
                  "Credits": 4
                },
                {
                  "LastName": "Shan",
                  "Location": "123 Smith",
                  "PersonID": 30,
                  "Title": "Chemistry",
                  "FirstName": "Alicia",
                  "Discriminator": "Student",
                  "CourseID": 1050,
                  "Days": "MTWH",
                  "Credits": 4
                },
                {
                  "LastName": "Shan",
                  "Location": "234 Smith",
                  "PersonID": 30,
                  "Title": "Physics",
                  "FirstName": "Alicia",
                  "Discriminator": "Student",
                  "CourseID": 1061,
                  "Days": "TWHF",
                  "Credits": 4
                },
                {
                  "LastName": "Abercrombie",
                  "Location": "123 Smith",
                  "PersonID": 1,
                  "HireDate": "1995-03-11T00:00:00.000Z",
                  "Name": "Engineering",
                  "Title": "Chemistry",
                  "Budget": 350000,
                  "FirstName": "Kim",
                  "Discriminator": "Instructor",
                  "CourseID": 1050,
                  "Days": "MTWH",
                  "StartDate": "2007-09-01T00:00:00.000Z",
                  "Credits": 4
                },
                {
                  "LastName": "Fakhouri",
                  "PersonID": 4,
                  "HireDate": "2002-08-06T00:00:00.000Z",
                  "Name": "English",
                  "Title": "Poetry",
                  "Budget": 120000,
                  "URL": "http://www.fineartschool.net/Poetry",
                  "FirstName": "Fadi",
                  "Discriminator": "Instructor",
                  "CourseID": 2030,
                  "StartDate": "2007-09-01T00:00:00.000Z",
                  "Credits": 2
                },
                {
                  "LastName": "Harui",
                  "Location": "121 Smith",
                  "PersonID": 5,
                  "HireDate": "1998-07-01T00:00:00.000Z",
                  "Name": "Mathematics",
                  "Title": "Calculus",
                  "Budget": 250000,
                  "FirstName": "Roger",
                  "Discriminator": "Instructor",
                  "CourseID": 1045,
                  "Days": "MWHF",
                  "StartDate": "2007-09-01T00:00:00.000Z",
                  "Credits": 4
                },
                {
                  "LastName": "Zheng",
                  "Location": "23 Williams",
                  "PersonID": 18,
                  "HireDate": "2004-02-12T00:00:00.000Z",
                  "Name": "Economics",
                  "Title": "Microeconomics",
                  "Budget": 200000,
                  "FirstName": "Roger",
                  "Discriminator": "Instructor",
                  "CourseID": 4022,
                  "Days": "MWF",
                  "StartDate": "2007-09-01T00:00:00.000Z",
                  "Credits": 3
                },
                {
                  "LastName": "Kapoor",
                  "Location": "225 Adams",
                  "PersonID": 25,
                  "HireDate": "2001-01-15T00:00:00.000Z",
                  "Name": "English",
                  "Title": "Literature",
                  "Budget": 120000,
                  "FirstName": "Candace",
                  "Discriminator": "Instructor",
                  "CourseID": 2042,
                  "Days": "MTWH",
                  "StartDate": "2007-09-01T00:00:00.000Z",
                  "Credits": 4
                },
                {
                  "LastName": "Serrano",
                  "PersonID": 27,
                  "HireDate": "1999-06-01T00:00:00.000Z",
                  "Name": "English",
                  "Title": "Composition",
                  "Budget": 120000,
                  "URL": "http://www.fineartschool.net/Composition",
                  "FirstName": "Stacy",
                  "Discriminator": "Instructor",
                  "CourseID": 2021,
                  "StartDate": "2007-09-01T00:00:00.000Z",
                  "Credits": 3
                },
                {
                  "LastName": "Stewart",
                  "Location": "234 Smith",
                  "PersonID": 31,
                  "HireDate": "1997-10-12T00:00:00.000Z",
                  "Name": "Engineering",
                  "Title": "Physics",
                  "Budget": 350000,
                  "FirstName": "Jasmine",
                  "Discriminator": "Instructor",
                  "CourseID": 1061,
                  "Days": "TWHF",
                  "StartDate": "2007-09-01T00:00:00.000Z",
                  "Credits": 4
                },
                {
                  "LastName": "Xu",
                  "PersonID": 32,
                  "HireDate": "2001-07-23T00:00:00.000Z",
                  "Name": "Economics",
                  "Title": "Macroeconomics",
                  "Budget": 200000,
                  "URL": "http://www.fineartschool.net/Macroeconomics",
                  "FirstName": "Kristen",
                  "Discriminator": "Instructor",
                  "CourseID": 4041,
                  "StartDate": "2007-09-01T00:00:00.000Z",
                  "Credits": 3
                },
                {
                  "LastName": "Van Houten",
                  "Location": "22 Williams",
                  "PersonID": 34,
                  "HireDate": "2000-12-07T00:00:00.000Z",
                  "Name": "Economics",
                  "Title": "Quantitative",
                  "Budget": 200000,
                  "FirstName": "Roger",
                  "Discriminator": "Instructor",
                  "CourseID": 4061,
                  "Days": "TH",
                  "StartDate": "2007-09-01T00:00:00.000Z",
                  "Credits": 2
                }
              ],
              "schema": {
                "PersonID": "bigint",
                "LastName": "string",
                "FirstName": "string",
                "HireDate": "int",
                "Discriminator": "string",
                "CourseID": "bigint",
                "Title": "string",
                "Credits": "bigint",
                "Name": "string",
                "Budget": "double",
                "StartDate": "int",
                "Location": "string",
                "Days": "string",
                "URL": "string"
              }
            },
            "isSummary": false,
            "language": "scala"
          },
          "persist_state": {
            "view": {
              "type": "details",
              "tableOptions": {},
              "chartOptions": {
                "chartType": "bar",
                "aggregationType": "sum",
                "categoryFieldKeys": [
                  "LastName"
                ],
                "seriesFieldKeys": [
                  "PersonID"
                ],
                "isStacked": false
              }
            }
          }
        },
        "a0ec488d-e098-4b45-b2dc-990a9ca5524b": {
          "type": "Synapse.DataFrame",
          "sync_state": {
            "table": {
              "rows": [
                {
                  "CourseID": 4022,
                  "StudentCount": 9,
                  "AverageCredits": 3
                },
                {
                  "CourseID": 4041,
                  "StudentCount": 7,
                  "AverageCredits": 3
                },
                {
                  "CourseID": 2021,
                  "StudentCount": 6,
                  "AverageCredits": 3
                },
                {
                  "CourseID": 4061,
                  "StudentCount": 6,
                  "AverageCredits": 2
                },
                {
                  "CourseID": 1061,
                  "StudentCount": 5,
                  "AverageCredits": 4
                },
                {
                  "CourseID": 1050,
                  "StudentCount": 4,
                  "AverageCredits": 4
                },
                {
                  "CourseID": 2042,
                  "StudentCount": 4,
                  "AverageCredits": 4
                },
                {
                  "CourseID": 2030,
                  "StudentCount": 3,
                  "AverageCredits": 2
                },
                {
                  "CourseID": 1045,
                  "StudentCount": 3,
                  "AverageCredits": 4
                }
              ],
              "schema": {
                "CourseID": "bigint",
                "StudentCount": "bigint",
                "AverageCredits": "double"
              }
            },
            "isSummary": false,
            "language": "scala"
          },
          "persist_state": {
            "view": {
              "type": "details",
              "tableOptions": {},
              "chartOptions": {
                "chartType": "bar",
                "aggregationType": "sum",
                "categoryFieldKeys": [
                  "StudentCount"
                ],
                "seriesFieldKeys": [
                  "CourseID"
                ],
                "isStacked": false
              }
            }
          }
        }
      }
    }
  },
  "nbformat": 4,
  "nbformat_minor": 2
}